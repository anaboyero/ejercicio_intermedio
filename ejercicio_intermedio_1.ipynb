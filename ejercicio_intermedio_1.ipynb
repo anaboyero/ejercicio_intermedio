{
 "cells": [
  {
   "cell_type": "markdown",
   "metadata": {},
   "source": [
    "Parte 1: Strings"
   ]
  },
  {
   "cell_type": "markdown",
   "metadata": {},
   "source": [
    "1. Dada una cadena de texto, contar cuántas veces aparece una letra específica en ella. Usa un\n",
    "input para que el usuario elija la letra a buscar.\n",
    "cadena = \"Python es un lenguaje de programación muy popular\""
   ]
  },
  {
   "cell_type": "code",
   "execution_count": 14,
   "metadata": {},
   "outputs": [
    {
     "name": "stdout",
     "output_type": "stream",
     "text": [
      "La letra j aparece 1 veces\n"
     ]
    }
   ],
   "source": [
    "cadena = \"Python es un lenguaje de programación muy popular\"\n",
    "letra = input(\"¿Qué letra quieres que busque en la frase?\")\n",
    "num_veces = cadena.count(letra)\n",
    "print(f\"La letra {letra} aparece {num_veces} veces\")\n"
   ]
  },
  {
   "cell_type": "markdown",
   "metadata": {},
   "source": [
    "2. Escribe un programa que tome la siguiente cadena de texto y reemplace una palabra específica\n",
    "por otra palabra. La palabra a reemplazar y reemplazada deben ser elegidas por el usuario.\n",
    "cadena = \"Python es genial. Python es fácil de aprender.\""
   ]
  },
  {
   "cell_type": "code",
   "execution_count": 9,
   "metadata": {},
   "outputs": [
    {
     "name": "stdout",
     "output_type": "stream",
     "text": [
      "Python es genial. Python es fácil de aprender.\n",
      "Tras el reemplazo, la frase queda:\n",
      "English es genial. English es fácil de aprender.\n"
     ]
    }
   ],
   "source": [
    "cadena = \"Python es genial. Python es fácil de aprender.\"\n",
    "print(cadena)\n",
    "\n",
    "palabra = input(\"Escribe qué palabra quieres reemplazar\")\n",
    "sustituta = input(\"Escribe la palabra con la que quieres que la reemplace\")\n",
    "\n",
    "cadena = cadena.replace(palabra, sustituta)\n",
    "print(f\"Tras el reemplazo, la frase queda:\\n{cadena}\")\n",
    "\n"
   ]
  },
  {
   "cell_type": "markdown",
   "metadata": {},
   "source": [
    "3. Toma la siguiente oración y divídela en una lista de palabras. Luego, únelas nuevamente en una\n",
    "sola cadena de texto.\n",
    "oracion = \"Esto es una oración de ejemplo\""
   ]
  },
  {
   "cell_type": "code",
   "execution_count": 21,
   "metadata": {},
   "outputs": [
    {
     "name": "stdout",
     "output_type": "stream",
     "text": [
      "Divido la oración en palabras y obtengo esta lista:\n",
      "['Esto', 'es', 'una', 'oración', 'de', 'ejemplo']\n",
      "Las he vuelto a unir en esta oración:\n",
      "Esto es una oración de ejemplo\n"
     ]
    }
   ],
   "source": [
    "oracion = \"Esto es una oración de ejemplo\"\n",
    "lista_palabras = oracion.split()\n",
    "print(f\"Divido la oración en palabras y obtengo esta lista:\\n{lista_palabras}\")\n",
    "nueva_oracion = \" \".join(lista_palabras) # Creo una nueva oración con las palabras de mi lista, separadas por espacios\n",
    "print(f\"Las he vuelto a unir en esta oración:\\n{nueva_oracion}\")"
   ]
  },
  {
   "cell_type": "markdown",
   "metadata": {},
   "source": [
    "4. Desarrolla un programa que cuente cuántas palabras hay en la siguiente frase.\n",
    "cadena = \"Esta es una cadena con cinco palabras\""
   ]
  },
  {
   "cell_type": "code",
   "execution_count": 24,
   "metadata": {},
   "outputs": [
    {
     "name": "stdout",
     "output_type": "stream",
     "text": [
      "La frase 'Esta es una cadena con cinco palabras' tiene 7 palabras\n"
     ]
    }
   ],
   "source": [
    "cadena = \"Esta es una cadena con cinco palabras\"\n",
    "lista_cadena= cadena.split() # Convierto la cadena en una lista, cuya longitud equivale al número de palabras\n",
    "numero_palabras = len(lista_cadena)\n",
    "print(f\"La frase '{cadena}' tiene {numero_palabras} palabras\")\n"
   ]
  },
  {
   "cell_type": "markdown",
   "metadata": {},
   "source": [
    "5. Escribe un programa que invierta una cadena de texto dada por un usuario. Mira el siguiente\n",
    "ejemplo para entender lo que se pide:\n",
    "# input\n",
    "\"Hola buenos dias\"\n",
    "# output\n",
    "\"dias buenos Hola"
   ]
  },
  {
   "cell_type": "code",
   "execution_count": 28,
   "metadata": {},
   "outputs": [
    {
     "name": "stdout",
     "output_type": "stream",
     "text": [
      "Tu frase con las palabras al revés queda así:\n",
      "nuez de cascara de barquito Un\n"
     ]
    }
   ],
   "source": [
    "cadena = input(\"Escribe la frase a la que quieres que le demos la vuelta\")\n",
    "lista_cadena = cadena.split() #Convierto la cadena en una lista para usar el método reverse \n",
    "lista_cadena.reverse()\n",
    "cadena_invertida = \" \".join(lista_cadena)\n",
    "print(f\"Tu frase invertida queda así:\\n{cadena_invertida}\")"
   ]
  },
  {
   "cell_type": "markdown",
   "metadata": {},
   "source": [
    "6. Crea un programa que busque una palabra específica(elegida por la usuaria) en una cadena de\n",
    "texto e indique su posición."
   ]
  },
  {
   "cell_type": "code",
   "execution_count": 31,
   "metadata": {},
   "outputs": [
    {
     "name": "stdout",
     "output_type": "stream",
     "text": [
      "La palabra 'familia' es la 14ª palabra de la frase\n"
     ]
    }
   ],
   "source": [
    "cadena = \"Las pikas o liebres silbadoras son un género de mamíferos lagomorfos de la familia Ochotonidae\"\n",
    "palabra = input(\"Escribe una palabra y te digo en qué orden aparece\")\n",
    "\n",
    "lista_cadena = cadena.split()\n",
    "indice = lista_cadena.index(palabra)\n",
    "orden = indice + 1\n",
    "print(f\"La palabra '{palabra}' es la {orden}ª palabra de la frase\") "
   ]
  },
  {
   "cell_type": "markdown",
   "metadata": {},
   "source": [
    "Parte 2: Listas"
   ]
  },
  {
   "cell_type": "markdown",
   "metadata": {},
   "source": [
    "1. Dada la siguiente lista: frutas = ['manzana', 'pera', 'banana', 'uva', 'kiwi'], realiza\n",
    "lo siguiente:\n",
    "a) Reemplaza el segundo elemento con 'durazno'.\n",
    "b) Agrega 'naranja' al final de la lista.\n",
    "c) Extrae y muestra por pantalla el tercer elemento de la lista."
   ]
  },
  {
   "cell_type": "code",
   "execution_count": 34,
   "metadata": {},
   "outputs": [
    {
     "name": "stdout",
     "output_type": "stream",
     "text": [
      "Hemos eliminado banana de la lista\n",
      "Ahora nuestra lista queda así: ['manzana', 'durazno', 'uva', 'kiwi', 'naranja']\n"
     ]
    }
   ],
   "source": [
    "frutas = ['manzana', 'pera', 'banana', 'uva', 'kiwi']\n",
    "# El segundo elemento de la lista es 'peras', que está en el índice 1\n",
    "frutas[1] = 'durazno'\n",
    "frutas.append('naranja')\n",
    "fruta_eliminada = frutas.pop(2)\n",
    "print(f\"Hemos eliminado {fruta_eliminada} de la lista\")\n",
    "print(f\"Ahora nuestra lista queda así: {frutas}\")"
   ]
  },
  {
   "cell_type": "markdown",
   "metadata": {},
   "source": [
    "2. Crea una lista llamada numeros que contenga los siguientes valores: 10, 25, 15, 30, 20."
   ]
  },
  {
   "cell_type": "code",
   "execution_count": 36,
   "metadata": {},
   "outputs": [],
   "source": [
    "numeros = [10, 25, 15, 30, 20]"
   ]
  },
  {
   "cell_type": "markdown",
   "metadata": {},
   "source": [
    "3. Agrega el valor 35 al incio de la lista numeros."
   ]
  },
  {
   "cell_type": "code",
   "execution_count": 37,
   "metadata": {},
   "outputs": [
    {
     "name": "stdout",
     "output_type": "stream",
     "text": [
      "[35, 10, 25, 15, 30, 20]\n"
     ]
    }
   ],
   "source": [
    "numeros.insert(0, 35)\n",
    "print(numeros)"
   ]
  },
  {
   "cell_type": "markdown",
   "metadata": {},
   "source": [
    "4. Ordena la lista numeros en orden ascendente."
   ]
  },
  {
   "cell_type": "code",
   "execution_count": 38,
   "metadata": {},
   "outputs": [
    {
     "name": "stdout",
     "output_type": "stream",
     "text": [
      "[10, 15, 20, 25, 30, 35]\n"
     ]
    }
   ],
   "source": [
    "numeros.sort()\n",
    "print(numeros)"
   ]
  },
  {
   "cell_type": "markdown",
   "metadata": {},
   "source": [
    "5. Dada la siguiente lista numeros2 = [45, 22, 19, 38, 29]. Crea una nueva lista llamada\n",
    "numeros3 donde tengamos la unión de los todos los elementos de las dos listas (numeros y\n",
    "numeros2) de tal forma que el resultado final sea:\n",
    "numeros3 = [10, 25, 15, 30, 20, 45, 22, 19, 38, 29]"
   ]
  },
  {
   "cell_type": "code",
   "execution_count": 40,
   "metadata": {},
   "outputs": [
    {
     "name": "stdout",
     "output_type": "stream",
     "text": [
      "[10, 25, 15, 30, 20, 45, 22, 19, 38, 29]\n"
     ]
    }
   ],
   "source": [
    "numeros = [10, 25, 15, 30, 20]\n",
    "numeros2 = [45, 22, 19, 38, 29]\n",
    "numeros3 = numeros + numeros2\n",
    "print(numeros3)"
   ]
  },
  {
   "cell_type": "markdown",
   "metadata": {},
   "source": [
    "6. Elimina el último elemento de la lista numeros3."
   ]
  },
  {
   "cell_type": "code",
   "execution_count": 41,
   "metadata": {},
   "outputs": [
    {
     "name": "stdout",
     "output_type": "stream",
     "text": [
      "[10, 25, 15, 30, 20, 45, 22, 19, 38]\n"
     ]
    }
   ],
   "source": [
    "numeros3.pop()\n",
    "print(numeros3)"
   ]
  },
  {
   "cell_type": "markdown",
   "metadata": {},
   "source": [
    "7. Elimina el número 30 de la lista numeros3."
   ]
  },
  {
   "cell_type": "code",
   "execution_count": 43,
   "metadata": {},
   "outputs": [
    {
     "name": "stdout",
     "output_type": "stream",
     "text": [
      "[10, 25, 15, 20, 45, 22, 19, 38]\n"
     ]
    }
   ],
   "source": [
    "numeros3.remove(30)\n",
    "print(numeros3)"
   ]
  },
  {
   "cell_type": "markdown",
   "metadata": {},
   "source": [
    "Parte 3: Tuplas"
   ]
  },
  {
   "cell_type": "code",
   "execution_count": null,
   "metadata": {},
   "outputs": [],
   "source": [
    "1. Crea una tupla llamada colores que contenga los siguientes valores: 'rojo', 'verde', 'azul',\n",
    "'amarillo', 'morado'."
   ]
  },
  {
   "cell_type": "code",
   "execution_count": 51,
   "metadata": {},
   "outputs": [],
   "source": [
    "colores = ('rojo', 'verde', 'azul','amarillo', 'morado')"
   ]
  },
  {
   "cell_type": "markdown",
   "metadata": {},
   "source": [
    "2. Encuentra el índice de 'verde' en la tupla colores."
   ]
  },
  {
   "cell_type": "code",
   "execution_count": 52,
   "metadata": {},
   "outputs": [
    {
     "name": "stdout",
     "output_type": "stream",
     "text": [
      "El índice de 'verdes' es 1\n"
     ]
    }
   ],
   "source": [
    "indice = colores.index('verde')\n",
    "print(f\"El índice de 'verdes' es {indice}\")"
   ]
  },
  {
   "cell_type": "markdown",
   "metadata": {},
   "source": [
    "3. ¿Cuántas veces aparece 'azul' en la tupla colores?"
   ]
  },
  {
   "cell_type": "code",
   "execution_count": 53,
   "metadata": {},
   "outputs": [
    {
     "name": "stdout",
     "output_type": "stream",
     "text": [
      "El color azul aparece 1 vez en nuestra tupla\n"
     ]
    }
   ],
   "source": [
    "num_azul = colores.count('azul')\n",
    "print(f\"El color azul aparece {num_azul} vez en nuestra tupla\")"
   ]
  },
  {
   "cell_type": "markdown",
   "metadata": {},
   "source": [
    "4. Añade el color \"morado\" a la tupla colores. ¿Qué ha pasado? ¿Por qué? Como podríamos\n",
    "añadir el elemento \"morado\""
   ]
  },
  {
   "cell_type": "code",
   "execution_count": 64,
   "metadata": {},
   "outputs": [
    {
     "name": "stdout",
     "output_type": "stream",
     "text": [
      "Ya tenemos una tupla con el color morado dos veces: ('rojo', 'verde', 'azul', 'amarillo', 'morado', 'morado')\n"
     ]
    }
   ],
   "source": [
    "# Las tuplas no se pueden modificar, por lo que no permite añadir nuevos elementos directamente.\n",
    "\n",
    "colores = ('rojo', 'verde', 'azul','amarillo', 'morado')\n",
    "\n",
    "# Una manera indirecta es hacer primero una conversión de tupla a lista, que sí es modificable.\n",
    "\n",
    "colores = list(colores)\n",
    "colores.append('morado')\n",
    "\n",
    "# Y después convertir esta lista a tupla.\n",
    "\n",
    "colores = tuple(colores)\n",
    "print(f\"Ya tenemos una tupla con el color morado dos veces: {colores}\")\n",
    "\n",
    "\n"
   ]
  },
  {
   "cell_type": "markdown",
   "metadata": {},
   "source": [
    "Parte 4: Diccionarios"
   ]
  },
  {
   "cell_type": "markdown",
   "metadata": {},
   "source": [
    "1. Crea un diccionario llamado frutas con las siguientes parejas clave-valor:\n",
    "o 'manzana': 2\n",
    "o 'banana': 3\n",
    "o 'uva': 5\n",
    "o 'pera': 4"
   ]
  },
  {
   "cell_type": "code",
   "execution_count": 65,
   "metadata": {},
   "outputs": [],
   "source": [
    "frutas = {'manzana': 2, \n",
    "'banana': 3, \n",
    "'uva': 5,\n",
    "'pera': 4,\n",
    "}"
   ]
  },
  {
   "cell_type": "markdown",
   "metadata": {},
   "source": [
    "2. Saca una lista de todas las frutas en el diccionario."
   ]
  },
  {
   "cell_type": "code",
   "execution_count": 67,
   "metadata": {},
   "outputs": [
    {
     "name": "stdout",
     "output_type": "stream",
     "text": [
      "Las frutas de mi diccionario son: ['manzana', 'banana', 'uva', 'pera']\n"
     ]
    }
   ],
   "source": [
    "claves = frutas.keys()\n",
    "lista_claves = list(claves)\n",
    "print(f\"Las frutas de mi diccionario son: {lista_claves}\")"
   ]
  },
  {
   "cell_type": "markdown",
   "metadata": {},
   "source": [
    "3. Saca una lista de todas las cantidades en el diccionario."
   ]
  },
  {
   "cell_type": "code",
   "execution_count": 68,
   "metadata": {},
   "outputs": [
    {
     "name": "stdout",
     "output_type": "stream",
     "text": [
      "Las cantidades de mi diccionario son: [2, 3, 5, 4]\n"
     ]
    }
   ],
   "source": [
    "valores = frutas.values()\n",
    "lista_valores = list(valores)\n",
    "print(f\"Las cantidades de mi diccionario son: {lista_valores}\")"
   ]
  },
  {
   "cell_type": "markdown",
   "metadata": {},
   "source": [
    "4. ¿Qué cantidad de 'manzana' tenemos?. Si la clave 'manzana' no está presente, devuelve un\n",
    "mensaje diciendo \"No existe esa clave\"."
   ]
  },
  {
   "cell_type": "code",
   "execution_count": 71,
   "metadata": {},
   "outputs": [
    {
     "name": "stdout",
     "output_type": "stream",
     "text": [
      "El número de manzanas de mi diccionario es 2\n"
     ]
    }
   ],
   "source": [
    "numero_manzanas = frutas.get(\"manzana\", \"No existe esa clave\")\n",
    "print(f\"El número de manzanas de mi diccionario es {numero_manzanas}\")"
   ]
  },
  {
   "cell_type": "markdown",
   "metadata": {},
   "source": [
    "5. Agrega un nuevo par de clave-valor al diccionario frutas: 'kiwi' con una cantidad de 6."
   ]
  },
  {
   "cell_type": "code",
   "execution_count": 73,
   "metadata": {},
   "outputs": [
    {
     "name": "stdout",
     "output_type": "stream",
     "text": [
      "{'manzana': 2, 'banana': 3, 'uva': 5, 'pera': 4, 'kiwi': 6}\n"
     ]
    }
   ],
   "source": [
    "frutas['kiwi']= 6\n",
    "print(frutas)"
   ]
  },
  {
   "cell_type": "markdown",
   "metadata": {},
   "source": [
    "\n",
    "6. Cambia la cantidad de 'uva' a 8."
   ]
  },
  {
   "cell_type": "code",
   "execution_count": 74,
   "metadata": {},
   "outputs": [
    {
     "name": "stdout",
     "output_type": "stream",
     "text": [
      "{'manzana': 2, 'banana': 3, 'uva': 8, 'pera': 4, 'kiwi': 6}\n"
     ]
    }
   ],
   "source": [
    "frutas['uva'] = 8\n",
    "print(frutas)"
   ]
  },
  {
   "cell_type": "markdown",
   "metadata": {},
   "source": [
    "7. Crea un segundo diccionario llamado frutas_nuevas con las siguientes parejas clave-valor:\n",
    "o 'sandía': 7\n",
    "o 'mango': 4"
   ]
  },
  {
   "cell_type": "code",
   "execution_count": 76,
   "metadata": {},
   "outputs": [
    {
     "name": "stdout",
     "output_type": "stream",
     "text": [
      "{'sandía': 7, 'mango': 4}\n"
     ]
    }
   ],
   "source": [
    "frutas_nuevas = {'sandía': 7, 'mango':4}\n",
    "print(frutas_nuevas)"
   ]
  },
  {
   "cell_type": "markdown",
   "metadata": {},
   "source": [
    "8. Combinar los dos diccionarios frutas_nuevas y frutas en uno nuevos llamado frutas_total."
   ]
  },
  {
   "cell_type": "code",
   "execution_count": 88,
   "metadata": {},
   "outputs": [
    {
     "name": "stdout",
     "output_type": "stream",
     "text": [
      "{'manzana': 2, 'banana': 3, 'uva': 8, 'pera': 4, 'kiwi': 6, 'sandía': 7, 'mango': 4}\n",
      "{'sandía': 7, 'mango': 4}\n",
      "<class 'NoneType'>\n",
      "None\n"
     ]
    }
   ],
   "source": [
    "# frutas_total = frutas.update(frutas_nuevas)\n",
    "# print(frutas_total)\n",
    "# No me da tiempo a averiguar por qué el resultado de esto es None\n",
    "print(frutas)\n",
    "print(frutas_nuevas)\n",
    "frutas_total = frutas.update(frutas_nuevas)\n",
    "print(type(frutas_total))\n",
    "print(frutas_total)"
   ]
  },
  {
   "cell_type": "markdown",
   "metadata": {},
   "source": [
    "\n",
    "9. Elimina el último par de clave-valor del diccionario fruta_total."
   ]
  },
  {
   "cell_type": "code",
   "execution_count": 96,
   "metadata": {},
   "outputs": [
    {
     "name": "stdout",
     "output_type": "stream",
     "text": [
      "Hemos eliminado la fruta ('mango', 4)\n"
     ]
    }
   ],
   "source": [
    "fruta_total = {'manzana': 2, 'banana': 3, 'uva': 8, 'pera': 4, 'kiwi': 6, 'sandía': 7, 'mango': 4, 'sandía': 7, 'mango': 4}\n",
    "\n",
    "eliminada = fruta_total.popitem()\n",
    "print(f\"Hemos eliminado la fruta {eliminada}\")"
   ]
  },
  {
   "cell_type": "markdown",
   "metadata": {},
   "source": [
    "10. Elimina el par de clave-valor correspondiente a la clave 'uva' del diccionario."
   ]
  },
  {
   "cell_type": "code",
   "execution_count": 97,
   "metadata": {},
   "outputs": [
    {
     "name": "stdout",
     "output_type": "stream",
     "text": [
      "Ahora el diccionario queda así: {'manzana': 2, 'banana': 3, 'pera': 4, 'kiwi': 6, 'sandía': 7}\n"
     ]
    }
   ],
   "source": [
    "fruta_total.pop('uva')\n",
    "print(f\"Ahora el diccionario queda así: {fruta_total}\")"
   ]
  },
  {
   "cell_type": "markdown",
   "metadata": {},
   "source": [
    "11. Agregar la fruta 'manzana' con una cantidad de 10 al diccionario. Si ya existe, no se realizarán\n",
    "cambios en los valores que teníamos."
   ]
  },
  {
   "cell_type": "code",
   "execution_count": 100,
   "metadata": {},
   "outputs": [
    {
     "name": "stdout",
     "output_type": "stream",
     "text": [
      "Ya había un término manzana\n",
      "{'manzana': 2, 'banana': 3, 'pera': 4, 'kiwi': 6, 'sandía': 7}\n"
     ]
    }
   ],
   "source": [
    "if 'manzana' not in fruta_total:\n",
    "    fruta_total['manzana'] = 10\n",
    "else:\n",
    "    print(\"Ya había un término manzana\")\n",
    "\n",
    "print(fruta_total)\n"
   ]
  },
  {
   "cell_type": "markdown",
   "metadata": {},
   "source": [
    "12. Combinar métodos de listas y diccionarios:\n",
    "o Obtén una lista de todas las cantidades en el diccionario y calcula suma total de las\n",
    "cantidades del diccionario frutas_total."
   ]
  },
  {
   "cell_type": "code",
   "execution_count": 105,
   "metadata": {},
   "outputs": [
    {
     "name": "stdout",
     "output_type": "stream",
     "text": [
      "La lista de cantidades de mi diccionario es: [2, 3, 4, 6, 7]\n",
      "La suma de los elementos de mi lista es: 22\n"
     ]
    }
   ],
   "source": [
    "lista_cantidades = list(fruta_total.values())\n",
    "suma = sum(lista_cantidades)\n",
    "print(f\"La lista de cantidades de mi diccionario es: {lista_cantidades}\")\n",
    "print(f\"La suma de los elementos de mi lista es: {suma}\")"
   ]
  },
  {
   "cell_type": "markdown",
   "metadata": {},
   "source": [
    "\n",
    "Utilizando la lista creada en el apartado anterior encuentra la cantidad más grande y\n",
    "más pequeña"
   ]
  },
  {
   "cell_type": "code",
   "execution_count": 106,
   "metadata": {},
   "outputs": [
    {
     "name": "stdout",
     "output_type": "stream",
     "text": [
      "La cantidad máxima de fruta es 7 y la mínima es 2\n"
     ]
    }
   ],
   "source": [
    "maximo = max(lista_cantidades)\n",
    "minimo = min (lista_cantidades)\n",
    "print(f\"La cantidad máxima de fruta es {maximo} y la mínima es {minimo}\")"
   ]
  },
  {
   "cell_type": "markdown",
   "metadata": {},
   "source": [
    "Parte 5: Métodos de Sets"
   ]
  },
  {
   "cell_type": "markdown",
   "metadata": {},
   "source": [
    "13. Crea un set llamado conjunto1 con los números del 1 al 5."
   ]
  },
  {
   "cell_type": "code",
   "execution_count": 109,
   "metadata": {},
   "outputs": [
    {
     "name": "stdout",
     "output_type": "stream",
     "text": [
      "<class 'set'>\n"
     ]
    }
   ],
   "source": [
    "conjunto1 = {1, 2, 3, 4, 5}"
   ]
  },
  {
   "cell_type": "markdown",
   "metadata": {},
   "source": [
    "14. Crea otro set llamado conjunto2 con los números del 4 al 8."
   ]
  },
  {
   "cell_type": "code",
   "execution_count": 110,
   "metadata": {},
   "outputs": [],
   "source": [
    "conjunto2 = {4, 5, 6, 7, 8}"
   ]
  },
  {
   "cell_type": "markdown",
   "metadata": {},
   "source": [
    "15. Obtén la unión de conjunto1 y conjunto2."
   ]
  },
  {
   "cell_type": "code",
   "execution_count": 113,
   "metadata": {},
   "outputs": [
    {
     "name": "stdout",
     "output_type": "stream",
     "text": [
      "{1, 2, 3, 4, 5, 6, 7, 8}\n"
     ]
    }
   ],
   "source": [
    "suma_de_sets = conjunto1.union(conjunto2)\n",
    "print(suma_de_sets)"
   ]
  },
  {
   "cell_type": "markdown",
   "metadata": {},
   "source": [
    "16. Obtén la intersección de conjunto1 y conjunto2."
   ]
  },
  {
   "cell_type": "code",
   "execution_count": 114,
   "metadata": {},
   "outputs": [
    {
     "name": "stdout",
     "output_type": "stream",
     "text": [
      "{4, 5}\n"
     ]
    }
   ],
   "source": [
    "elementos_comunes = conjunto1.intersection(conjunto2)\n",
    "print(elementos_comunes)"
   ]
  },
  {
   "cell_type": "markdown",
   "metadata": {},
   "source": [
    "17. Obtén los elementos que están en conjunto1 pero no en el conjunto2"
   ]
  },
  {
   "cell_type": "code",
   "execution_count": 115,
   "metadata": {},
   "outputs": [
    {
     "name": "stdout",
     "output_type": "stream",
     "text": [
      "{1, 2, 3}\n"
     ]
    }
   ],
   "source": [
    "unicos_del_conjunto1 = conjunto1.difference(conjunto2)\n",
    "print(unicos_del_conjunto1)"
   ]
  },
  {
   "cell_type": "markdown",
   "metadata": {},
   "source": [
    "Parte 6: Sentencias de Control"
   ]
  },
  {
   "cell_type": "markdown",
   "metadata": {},
   "source": [
    "- Ejercicio 1: Evaluación de Edades:\n",
    "o Escribe un programa que solicite al usuario ingresar su edad.\n",
    "o Si la edad es menor de 18, muestra \"Eres menor de edad\".\n",
    "o Si la edad está entre 18 y 65 (incluyendo ambos extremos), muestra \"Eres adulto\".\n",
    "o Si la edad es mayor que 65, muestra \"Eres un adulto mayor\"."
   ]
  },
  {
   "cell_type": "code",
   "execution_count": 122,
   "metadata": {},
   "outputs": [
    {
     "name": "stdout",
     "output_type": "stream",
     "text": [
      "Eres menor de edad\n"
     ]
    }
   ],
   "source": [
    "edad = int(input(\"Por favor, ingrese su edad\"))\n",
    "\n",
    "if edad > 65:\n",
    "    evaluacion= \"Eres un adulto mayor\"\n",
    "elif edad >= 18:\n",
    "    evaluacion= \"Eres adulto\"\n",
    "else: \n",
    "    evaluacion= \"Eres menor de edad\"\n",
    "\n",
    "print(evaluacion)\n",
    "\n"
   ]
  },
  {
   "cell_type": "markdown",
   "metadata": {},
   "source": [
    "- Ejercicio 2: Determinación de Día de la Semana\n",
    "o Solicita al usuario que ingrese un número del 1 al 7.\n",
    "o Utilizando una serie de if-elif-else, muestra el día de la semana correspondiente al\n",
    "número ingresado. Por ejemplo, si ingresa 1, muestra \"Lunes\"."
   ]
  },
  {
   "cell_type": "code",
   "execution_count": 135,
   "metadata": {},
   "outputs": [
    {
     "name": "stdout",
     "output_type": "stream",
     "text": [
      "El día que corresponde a 8 es ninguno. No ha ingresado un número válido\n"
     ]
    }
   ],
   "source": [
    "numero = input(\"Ingresa un número de 1 al 7\")\n",
    "\n",
    "if numero == '1':\n",
    "    dia = \"Lunes\"\n",
    "elif numero == '2':\n",
    "    dia = \"Martes\"\n",
    "elif numero == '3':\n",
    "    dia = \"Miércoles\"\n",
    "elif numero == '4':\n",
    "    dia = \"Jueves\"\n",
    "elif numero == '5':\n",
    "    dia = \"Viernes\"\n",
    "elif numero == '6':\n",
    "    dia = \"Sábado\"\n",
    "elif numero == '7':\n",
    "    dia = \"Domingo\"\n",
    "else:\n",
    "    dia =\"ninguno. No ha ingresado un número válido\"\n",
    "\n",
    "print(f\"El día que corresponde a {numero} es {dia}\")\n"
   ]
  },
  {
   "cell_type": "markdown",
   "metadata": {},
   "source": [
    "- Ejercicio 3: Juego de Adivinanza\n",
    "o Genera un número aleatorio entre 1 y 100.\n",
    "o Pídele al usuario que adivine el número.\n",
    "o Si el usuario adivina correctamente en el primer intento, muestra \"¡Ganaste en el primer\n",
    "intento!\".\n",
    "o Si el usuario no adivina en el primer intento, bríndale pistas (mayor o menor) y permite\n",
    "que intente nuevamente. Muestra cuántos intentos le llevó al final."
   ]
  },
  {
   "cell_type": "code",
   "execution_count": 141,
   "metadata": {},
   "outputs": [
    {
     "name": "stdout",
     "output_type": "stream",
     "text": [
      "¡Adivina qué número estoy pensando!\n",
      "El número en que estoy pensando es mayor que 21\n",
      "El número en que estoy pensando es más pequeño que 78\n",
      "El número en que estoy pensando es más pequeño que 80\n",
      "El número en que estoy pensando es más pequeño que 60\n",
      "El número en que estoy pensando es más pequeño que 55\n",
      "¡Enhorabuena! El número secreto era 54\n"
     ]
    }
   ],
   "source": [
    "print(\"¡Adivina qué número estoy pensando!\")\n",
    "\n",
    "numero_secreto = 54\n",
    "sigue_jugando = True\n",
    "\n",
    "while (sigue_jugando):\n",
    "\n",
    "    intento = int(input(\"Introduce un número entre 1 y 100\"))\n",
    "\n",
    "    if intento > numero_secreto:\n",
    "        print(f\"El número en que estoy pensando es más pequeño que {intento}\")\n",
    "    elif intento < numero_secreto:\n",
    "        print(f\"El número en que estoy pensando es mayor que {intento}\")\n",
    "    else:\n",
    "        print(f\"¡Enhorabuena! El número secreto era {intento}\")\n",
    "        sigue_jugando = False\n",
    "\n",
    "\n"
   ]
  },
  {
   "cell_type": "markdown",
   "metadata": {},
   "source": [
    "- Ejercicio 4: Juego de Adivinar la Palabra\n",
    "o Elige una palabra secreta y ocúltala utilizando asteriscos, por ejemplo, \"secreto\" se\n",
    "muestra como \"*******\".\n",
    "o Permite al usuario adivinar letras una por una.\n",
    "o Si la letra adivinada está en la palabra secreta, muestra la palabra con las letras\n",
    "descubiertas y los asteriscos.\n",
    "o Si la letra no está en la palabra secreta, resta una vida al jugador.\n",
    "o El juego continúa hasta que el jugador adivine la palabra."
   ]
  },
  {
   "cell_type": "code",
   "execution_count": 163,
   "metadata": {},
   "outputs": [
    {
     "name": "stdout",
     "output_type": "stream",
     "text": [
      "mis variables son:\n",
      "palabra_secreta playa\n",
      "palabra_mostrada *****\n",
      "panel_secreta ['p', 'l', 'a', 'y', 'a']\n",
      "panel_asteriscos ['*', '*', '*', '*', '*']\n",
      "apariciones: 6\n"
     ]
    },
    {
     "ename": "ValueError",
     "evalue": "'' is not in list",
     "output_type": "error",
     "traceback": [
      "\u001b[0;31m---------------------------------------------------------------------------\u001b[0m",
      "\u001b[0;31mValueError\u001b[0m                                Traceback (most recent call last)",
      "Cell \u001b[0;32mIn[163], line 38\u001b[0m\n\u001b[1;32m     32\u001b[0m \u001b[38;5;28mprint\u001b[39m(\u001b[38;5;124m\"\u001b[39m\u001b[38;5;124mapariciones:\u001b[39m\u001b[38;5;124m\"\u001b[39m, apariciones)\n\u001b[1;32m     34\u001b[0m \u001b[38;5;28;01mwhile\u001b[39;00m apariciones \u001b[38;5;241m>\u001b[39m\u001b[38;5;241m=\u001b[39m \u001b[38;5;241m1\u001b[39m:\n\u001b[1;32m     35\u001b[0m \n\u001b[1;32m     36\u001b[0m     \u001b[38;5;66;03m#  Buscar el primer indice en que esa letra está en la palabra secreta \u001b[39;00m\n\u001b[0;32m---> 38\u001b[0m     indice \u001b[38;5;241m=\u001b[39m panel_secreta\u001b[38;5;241m.\u001b[39mindex(letra_intento)\n\u001b[1;32m     40\u001b[0m     \u001b[38;5;28mprint\u001b[39m(\u001b[38;5;124mf\u001b[39m\u001b[38;5;124m\"\u001b[39m\u001b[38;5;124mLa letra esta en el indice: \u001b[39m\u001b[38;5;132;01m{\u001b[39;00mindice\u001b[38;5;132;01m}\u001b[39;00m\u001b[38;5;124m\"\u001b[39m)\n\u001b[1;32m     42\u001b[0m     \u001b[38;5;66;03m# Y sustituir esa letra en la palaba de asteriscos por esa letra.\u001b[39;00m\n",
      "\u001b[0;31mValueError\u001b[0m: '' is not in list"
     ]
    }
   ],
   "source": [
    "palabra_secreta = \"playa\"\n",
    "palabra_mostrada = \"*****\"\n",
    "panel_secreta = list(palabra_secreta)\n",
    "panel_asteriscos = list(palabra_mostrada)\n",
    "vidas_gastadas = 0\n",
    "seguir_jugando = True\n",
    "\n",
    "# Mientras no se haya completado la palabra seguimos este bucle:\n",
    "\n",
    "while (seguir_jugando):  \n",
    "\n",
    "    print(\"mis variables son:\")\n",
    "    print(\"palabra_secreta\", palabra_secreta)\n",
    "    print(\"palabra_mostrada\", palabra_mostrada)\n",
    "    print(\"panel_secreta\", panel_secreta)\n",
    "    print(\"panel_asteriscos\", panel_asteriscos)\n",
    "\n",
    "# 1. Pedir al usuario una letra\n",
    "\n",
    "    letra_intento = input(\"Introduce una letra\")\n",
    "\n",
    "# 2. Evaluar si la letra está en la palabra \n",
    "\n",
    "    if letra_intento in palabra_secreta:  \n",
    "\n",
    "    # 4. Si sí está: \n",
    "\n",
    "        # Hay que averiguar el número de repeticiones de esa letra en la palabra\n",
    "\n",
    "        apariciones = palabra_secreta.count(letra_intento) \n",
    "\n",
    "        print(\"apariciones:\", apariciones)\n",
    "\n",
    "        while apariciones >= 1:\n",
    "\n",
    "            #  Buscar el primer indice en que esa letra está en la palabra secreta \n",
    "\n",
    "            indice = panel_secreta.index(letra_intento)\n",
    "\n",
    "            print(f\"La letra esta en el indice: {indice}\")\n",
    "\n",
    "            # Y sustituir esa letra en la palaba de asteriscos por esa letra.\n",
    "\n",
    "            panel_asteriscos[indice] = letra_intento  \n",
    "\n",
    "            #Eliminamos la letra que acabamos de sustituir para poder encontrar la siguiente, si hay repeticiones\n",
    "\n",
    "            panel_secreta[letra_intento]= '*'\n",
    "\n",
    "            apariciones -=1\n",
    "\n",
    "\n",
    "        # Salimos de aquí con las letras acertadas ya sustituidas en el panel de asteriscos\n",
    "\n",
    "        palabra_mostrada = \"\".join(panel_asteriscos) \n",
    "        print(\"¡ACERTASTE! Esa letra forma parte de la palabra secreta\")\n",
    "        print(f\"La palabra queda así: {palabra_mostrada}\")\n",
    "              \n",
    "        # ¿Ha adivinado la palabra completa? \n",
    "\n",
    "        if '*' not in palabra_mostrada: \n",
    "            seguir_jugando = False\n",
    "         \n",
    "              \n",
    "    else:\n",
    "            # Si la letra no está, corremos una vida.\n",
    "\n",
    "        print(f\"¡Fallaste! {letra_intento} no forma parte de la palabra secreta\")\n",
    "        vidas_gastadas += 1\n"
   ]
  }
 ],
 "metadata": {
  "kernelspec": {
   "display_name": "base",
   "language": "python",
   "name": "python3"
  },
  "language_info": {
   "codemirror_mode": {
    "name": "ipython",
    "version": 3
   },
   "file_extension": ".py",
   "mimetype": "text/x-python",
   "name": "python",
   "nbconvert_exporter": "python",
   "pygments_lexer": "ipython3",
   "version": "3.12.4"
  }
 },
 "nbformat": 4,
 "nbformat_minor": 2
}
